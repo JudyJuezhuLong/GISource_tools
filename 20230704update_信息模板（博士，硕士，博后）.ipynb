{
 "cells": [
  {
   "cell_type": "markdown",
   "id": "46c14916",
   "metadata": {},
   "source": [
    "# 第 1 步：请运行这个 cell 的函数"
   ]
  },
  {
   "cell_type": "code",
   "execution_count": 1,
   "id": "d767bf9a",
   "metadata": {},
   "outputs": [],
   "source": [
    "# 基本模板\n",
    "# import datetime\n",
    "from IPython.display import clear_output\n",
    "from gisource_func import typePositionName,getUtcDate,dataBase,weChat,whatsApp,outputStr"
   ]
  },
  {
   "cell_type": "markdown",
   "id": "0bc8e53c",
   "metadata": {},
   "source": [
    "# 第 2 步：请填写下列信息\n",
    "### 若无信息则保持模板原状"
   ]
  },
  {
   "cell_type": "markdown",
   "id": "af883544",
   "metadata": {},
   "source": [
    "0. PhD\n",
    "1. Master's\n",
    "2. PhD and/or Master's\n",
    "3. PostDoc\n",
    "4. Other"
   ]
  },
  {
   "cell_type": "code",
   "execution_count": 2,
   "id": "8c976ddc",
   "metadata": {},
   "outputs": [],
   "source": [
    "type_position=0  # Position type: 0/1/2/3/4\n",
    "\n",
    "clear_output()\n",
    "# 请填写下列信息。若无信息则保持模板原状。\n",
    "University_EN = 'The Swiss Tropical and Public Health Institute'  # 学校或机构的【英文名称】\n",
    "University_CN = '瑞士热带和公共卫生研究所'  # 学校或机构的【中文名称】\n",
    "Country_EN = 'Switzerland'  # 【国家中文名称】\n",
    "Country_CN = '瑞士'  # 【国家英文名称】\n",
    "direction = 'Epidemiological study on the health effects of radiofrequency electromagnetic fields in adolescents'    # 【研究方向】或【会议/暑校主题】\n",
    "deadline = 'Soon'     # 【申请的截止时间】\n",
    "\n",
    "\n",
    "# 若有多个联系人，请在contact_people和contact_email列表中自行添加'XX'.\n",
    "# 例如：\n",
    "# contact_people = ['Xingjie Wei','Paul Longley']\n",
    "# contact_email = ['a.r.mizen@swansea.ac.uk','p.longley@ucl.ac.uk']\n",
    "contact_people = ['Martin Röösli'] # 联系人【姓名】\n",
    "contact_email = ['martin.roosli@swisstph.ch']  # 联系人【邮箱】\n",
    "\n",
    "URL = 'https://jobs.swisstph.ch/Vacancies/897/Description/2'              # 网站链接\n",
    "GIS_Info_url = ''     # GISphere 链接"
   ]
  },
  {
   "cell_type": "code",
   "execution_count": 3,
   "id": "98664ccb",
   "metadata": {},
   "outputs": [
    {
     "data": {
      "text/plain": [
       "\"\\ntype_position=【】  # Position type: 0/1/2/3/4\\n\\nclear_output()\\n# 请填写下列信息。若无信息则保持模板原状。\\nUniversity_EN = ''  # 学校或机构的【英文名称】\\nUniversity_CN = ''  # 学校或机构的【中文名称】\\nCountry_EN = ''  # 【国家中文名称】\\nCountry_CN = ''  # 【国家英文名称】\\ndirection = ''    # 【研究方向】或【会议/暑校主题】\\ndeadline = ''     # 【申请的截止时间】\\n\\n\\n# 若有多个联系人，请在contact_people和contact_email列表中自行添加'XX'.\\n# 例如：\\n# contact_people = ['Xingjie Wei','Paul Longley']\\n# contact_email = ['a.r.mizen@swansea.ac.uk','p.longley@ucl.ac.uk']\\ncontact_people = [''] # 联系人【姓名】\\ncontact_email = ['']  # 联系人【邮箱】\\n\\nURL = ''              # 网站链接\\nGIS_Info_url = ''     # GISphere 链接\\n\""
      ]
     },
     "execution_count": 3,
     "metadata": {},
     "output_type": "execute_result"
    }
   ],
   "source": [
    "\"\"\"\n",
    "type_position=【】  # Position type: 0/1/2/3/4\n",
    "\n",
    "clear_output()\n",
    "# 请填写下列信息。若无信息则保持模板原状。\n",
    "University_EN = ''  # 学校或机构的【英文名称】\n",
    "University_CN = ''  # 学校或机构的【中文名称】\n",
    "Country_EN = ''  # 【国家中文名称】\n",
    "Country_CN = ''  # 【国家英文名称】\n",
    "direction = ''    # 【研究方向】或【会议/暑校主题】\n",
    "deadline = ''     # 【申请的截止时间】\n",
    "\n",
    "\n",
    "# 若有多个联系人，请在contact_people和contact_email列表中自行添加'XX'.\n",
    "# 例如：\n",
    "# contact_people = ['Xingjie Wei','Paul Longley']\n",
    "# contact_email = ['a.r.mizen@swansea.ac.uk','p.longley@ucl.ac.uk']\n",
    "contact_people = [''] # 联系人【姓名】\n",
    "contact_email = ['']  # 联系人【邮箱】\n",
    "\n",
    "URL = ''              # 网站链接\n",
    "GIS_Info_url = ''     # GISphere 链接\n",
    "\"\"\"\n"
   ]
  },
  {
   "cell_type": "markdown",
   "id": "56bfd836",
   "metadata": {},
   "source": [
    "# 第 3 步：请选择与 position 相应的 cell 运行\n",
    "### 模板 txt 将输出到指定目录（C盘受限）\n",
    "0. PhD\n",
    "1. Master's\n",
    "2. PhD and/or Master's\n",
    "3. PostDoc\n",
    "4. Other"
   ]
  },
  {
   "cell_type": "code",
   "execution_count": 4,
   "id": "970d3edf",
   "metadata": {},
   "outputs": [],
   "source": [
    "\n",
    "type_position_name = typePositionName(type_position)\n",
    "\n",
    "database_info = dataBase(type_position,University_CN,University_EN,Country_CN,Country_EN,\\\n",
    "             direction,deadline,URL,contact_people,contact_email)\n",
    "wechat_info = weChat(type_position,Country_CN,University_CN,direction,deadline,contact_people,contact_email,URL)\n",
    "whatsapp_info = whatsApp(type_position,Country_EN,University_EN,direction,deadline,\\\n",
    "           contact_people,contact_email,URL)\n",
    "\n",
    "str=outputStr(type_position_name,database_info,wechat_info,whatsapp_info)\n",
    "\n",
    "text_file = open('E:/'+getUtcDate()[:10]+University_CN+type_position_name+'.txt', 'w',encoding=\"utf-8\")\n",
    "n = text_file.write(str)\n",
    "text_file.close()"
   ]
  },
  {
   "cell_type": "code",
   "execution_count": null,
   "id": "fb86def4",
   "metadata": {},
   "outputs": [],
   "source": []
  }
 ],
 "metadata": {
  "kernelspec": {
   "display_name": "Python 3 (ipykernel)",
   "language": "python",
   "name": "python3"
  },
  "language_info": {
   "codemirror_mode": {
    "name": "ipython",
    "version": 3
   },
   "file_extension": ".py",
   "mimetype": "text/x-python",
   "name": "python",
   "nbconvert_exporter": "python",
   "pygments_lexer": "ipython3",
   "version": "3.10.9"
  }
 },
 "nbformat": 4,
 "nbformat_minor": 5
}
